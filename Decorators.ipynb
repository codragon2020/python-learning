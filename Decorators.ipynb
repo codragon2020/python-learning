{
 "cells": [
  {
   "cell_type": "code",
   "execution_count": 1,
   "id": "37311693",
   "metadata": {},
   "outputs": [],
   "source": [
    "# Decorators all you to tack on extra functionality to an already existing function\n",
    "# They use the @ operator and are then placed on top of the original function"
   ]
  },
  {
   "cell_type": "code",
   "execution_count": 2,
   "id": "6cff19cd",
   "metadata": {},
   "outputs": [],
   "source": [
    "def func():\n",
    "    return 1"
   ]
  },
  {
   "cell_type": "code",
   "execution_count": 3,
   "id": "8f4cbe77",
   "metadata": {},
   "outputs": [
    {
     "data": {
      "text/plain": [
       "1"
      ]
     },
     "execution_count": 3,
     "metadata": {},
     "output_type": "execute_result"
    }
   ],
   "source": [
    "func()"
   ]
  },
  {
   "cell_type": "code",
   "execution_count": 4,
   "id": "84dcea81",
   "metadata": {},
   "outputs": [
    {
     "data": {
      "text/plain": [
       "<function __main__.func()>"
      ]
     },
     "execution_count": 4,
     "metadata": {},
     "output_type": "execute_result"
    }
   ],
   "source": [
    "# you can assign functions to variables and execute off the variable\n",
    "func"
   ]
  },
  {
   "cell_type": "code",
   "execution_count": 5,
   "id": "d8ef0076",
   "metadata": {},
   "outputs": [],
   "source": [
    "# ex. assign hello() to greet variable\n",
    "def hello():\n",
    "    return \"Hello!\""
   ]
  },
  {
   "cell_type": "code",
   "execution_count": 6,
   "id": "d0a20133",
   "metadata": {},
   "outputs": [
    {
     "data": {
      "text/plain": [
       "'Hello!'"
      ]
     },
     "execution_count": 6,
     "metadata": {},
     "output_type": "execute_result"
    }
   ],
   "source": [
    "hello()"
   ]
  },
  {
   "cell_type": "code",
   "execution_count": 7,
   "id": "87b320ba",
   "metadata": {},
   "outputs": [
    {
     "data": {
      "text/plain": [
       "<function __main__.hello()>"
      ]
     },
     "execution_count": 7,
     "metadata": {},
     "output_type": "execute_result"
    }
   ],
   "source": [
    "hello"
   ]
  },
  {
   "cell_type": "code",
   "execution_count": 8,
   "id": "e163b166",
   "metadata": {},
   "outputs": [],
   "source": [
    "greet = hello"
   ]
  },
  {
   "cell_type": "code",
   "execution_count": 9,
   "id": "c086a1d1",
   "metadata": {},
   "outputs": [
    {
     "data": {
      "text/plain": [
       "'Hello!'"
      ]
     },
     "execution_count": 9,
     "metadata": {},
     "output_type": "execute_result"
    }
   ],
   "source": [
    "greet()"
   ]
  },
  {
   "cell_type": "code",
   "execution_count": 10,
   "id": "5afb394d",
   "metadata": {},
   "outputs": [],
   "source": [
    "# greet() made a copy of hello()\n",
    "del hello"
   ]
  },
  {
   "cell_type": "code",
   "execution_count": 11,
   "id": "0135803a",
   "metadata": {},
   "outputs": [
    {
     "ename": "NameError",
     "evalue": "name 'hello' is not defined",
     "output_type": "error",
     "traceback": [
      "\u001b[1;31m---------------------------------------------------------------------------\u001b[0m",
      "\u001b[1;31mNameError\u001b[0m                                 Traceback (most recent call last)",
      "\u001b[1;32m<ipython-input-11-a75d7781aaeb>\u001b[0m in \u001b[0;36m<module>\u001b[1;34m\u001b[0m\n\u001b[1;32m----> 1\u001b[1;33m \u001b[0mhello\u001b[0m\u001b[1;33m(\u001b[0m\u001b[1;33m)\u001b[0m\u001b[1;33m\u001b[0m\u001b[1;33m\u001b[0m\u001b[0m\n\u001b[0m",
      "\u001b[1;31mNameError\u001b[0m: name 'hello' is not defined"
     ]
    }
   ],
   "source": [
    "hello()"
   ]
  },
  {
   "cell_type": "code",
   "execution_count": 12,
   "id": "caf4198b",
   "metadata": {},
   "outputs": [
    {
     "data": {
      "text/plain": [
       "'Hello!'"
      ]
     },
     "execution_count": 12,
     "metadata": {},
     "output_type": "execute_result"
    }
   ],
   "source": [
    "greet()"
   ]
  },
  {
   "cell_type": "code",
   "execution_count": null,
   "id": "5faa0cf0",
   "metadata": {},
   "outputs": [],
   "source": []
  },
  {
   "cell_type": "code",
   "execution_count": null,
   "id": "519217d7",
   "metadata": {},
   "outputs": [],
   "source": []
  },
  {
   "cell_type": "code",
   "execution_count": 21,
   "id": "c92d90c9",
   "metadata": {},
   "outputs": [],
   "source": [
    "def hello(name='Jose'):\n",
    "    print('The hello() function has been executed!')\n",
    "    \n",
    "    def greet():\n",
    "        return '\\t This is the greet() func inside hello!'\n",
    "    \n",
    "    def welcome():\n",
    "        return '\\t This is the welcome() inside hello'\n",
    "    \n",
    "    print(greet())\n",
    "    print(welcome())\n",
    "    print('This is the end of the hello function!')"
   ]
  },
  {
   "cell_type": "code",
   "execution_count": 22,
   "id": "5b1ade06",
   "metadata": {},
   "outputs": [
    {
     "name": "stdout",
     "output_type": "stream",
     "text": [
      "The hello() function has been executed!\n",
      "\t This is the greet() func inside hello!\n",
      "\t This is the welcome() inside hello\n",
      "This is the end of the hello function!\n"
     ]
    }
   ],
   "source": [
    "hello()"
   ]
  },
  {
   "cell_type": "code",
   "execution_count": 23,
   "id": "4ec98241",
   "metadata": {},
   "outputs": [
    {
     "ename": "NameError",
     "evalue": "name 'welcome' is not defined",
     "output_type": "error",
     "traceback": [
      "\u001b[1;31m---------------------------------------------------------------------------\u001b[0m",
      "\u001b[1;31mNameError\u001b[0m                                 Traceback (most recent call last)",
      "\u001b[1;32m<ipython-input-23-6f3c08b5587a>\u001b[0m in \u001b[0;36m<module>\u001b[1;34m\u001b[0m\n\u001b[0;32m      1\u001b[0m \u001b[1;31m# greet() and welcome() are only executable inside hello()\u001b[0m\u001b[1;33m\u001b[0m\u001b[1;33m\u001b[0m\u001b[1;33m\u001b[0m\u001b[0m\n\u001b[1;32m----> 2\u001b[1;33m \u001b[0mwelcome\u001b[0m\u001b[1;33m(\u001b[0m\u001b[1;33m)\u001b[0m\u001b[1;33m\u001b[0m\u001b[1;33m\u001b[0m\u001b[0m\n\u001b[0m",
      "\u001b[1;31mNameError\u001b[0m: name 'welcome' is not defined"
     ]
    }
   ],
   "source": [
    "# greet() and welcome() are only executable inside hello()\n",
    "welcome()"
   ]
  },
  {
   "cell_type": "code",
   "execution_count": 24,
   "id": "0bc2beef",
   "metadata": {},
   "outputs": [],
   "source": [
    "# in order to get the embedded functions to be accessible outside the parent function you have to return the function\n",
    "def hello(name='Jose'):\n",
    "    print('The hello() function has been executed!')\n",
    "    \n",
    "    def greet():\n",
    "        return '\\t This is the greet() func inside hello!'\n",
    "    \n",
    "    def welcome():\n",
    "        return '\\t This is the welcome() inside hello'\n",
    "    \n",
    "    print('I am going to return a function!')\n",
    "    \n",
    "    if name == 'Jose':\n",
    "        return greet\n",
    "    else:\n",
    "        return welcome"
   ]
  },
  {
   "cell_type": "code",
   "execution_count": 26,
   "id": "f876c060",
   "metadata": {},
   "outputs": [
    {
     "name": "stdout",
     "output_type": "stream",
     "text": [
      "The hello() function has been executed!\n",
      "I am going to return a function!\n"
     ]
    }
   ],
   "source": [
    "# this will return the greet()\n",
    "my_new_func = hello('Jose')"
   ]
  },
  {
   "cell_type": "code",
   "execution_count": 27,
   "id": "9885a3f8",
   "metadata": {},
   "outputs": [
    {
     "data": {
      "text/plain": [
       "<function __main__.hello.<locals>.greet()>"
      ]
     },
     "execution_count": 27,
     "metadata": {},
     "output_type": "execute_result"
    }
   ],
   "source": [
    "my_new_func"
   ]
  },
  {
   "cell_type": "code",
   "execution_count": 29,
   "id": "429c4ff0",
   "metadata": {},
   "outputs": [
    {
     "name": "stdout",
     "output_type": "stream",
     "text": [
      "\t This is the greet() func inside hello!\n"
     ]
    }
   ],
   "source": [
    "print(my_new_func())"
   ]
  },
  {
   "cell_type": "code",
   "execution_count": 30,
   "id": "d3f73381",
   "metadata": {},
   "outputs": [],
   "source": [
    "def cool():\n",
    "    \n",
    "    def super_cool():\n",
    "        return 'I am very cool!'\n",
    "    \n",
    "    return super_cool"
   ]
  },
  {
   "cell_type": "code",
   "execution_count": 31,
   "id": "f085a3be",
   "metadata": {},
   "outputs": [],
   "source": [
    "some_func = cool()"
   ]
  },
  {
   "cell_type": "code",
   "execution_count": 32,
   "id": "e17d7ca1",
   "metadata": {},
   "outputs": [
    {
     "data": {
      "text/plain": [
       "<function __main__.cool.<locals>.super_cool()>"
      ]
     },
     "execution_count": 32,
     "metadata": {},
     "output_type": "execute_result"
    }
   ],
   "source": [
    "some_func"
   ]
  },
  {
   "cell_type": "code",
   "execution_count": 33,
   "id": "e80902d4",
   "metadata": {},
   "outputs": [
    {
     "data": {
      "text/plain": [
       "'I am very cool!'"
      ]
     },
     "execution_count": 33,
     "metadata": {},
     "output_type": "execute_result"
    }
   ],
   "source": [
    "some_func()"
   ]
  },
  {
   "cell_type": "code",
   "execution_count": 34,
   "id": "2f99dea4",
   "metadata": {},
   "outputs": [],
   "source": [
    "# have a function as an argument\n",
    "def hello():\n",
    "    return 'Hi Jose!'"
   ]
  },
  {
   "cell_type": "code",
   "execution_count": 35,
   "id": "bcae8a1b",
   "metadata": {},
   "outputs": [],
   "source": [
    "def other(some_def_func):\n",
    "    print('Other code runs here!')\n",
    "    print(some_def_func())"
   ]
  },
  {
   "cell_type": "code",
   "execution_count": 36,
   "id": "30cceccb",
   "metadata": {},
   "outputs": [
    {
     "name": "stdout",
     "output_type": "stream",
     "text": [
      "Other code runs here!\n",
      "Hi Jose!\n"
     ]
    }
   ],
   "source": [
    "other(hello)"
   ]
  },
  {
   "cell_type": "code",
   "execution_count": null,
   "id": "a60c119e",
   "metadata": {},
   "outputs": [],
   "source": []
  },
  {
   "cell_type": "code",
   "execution_count": null,
   "id": "56b29a06",
   "metadata": {},
   "outputs": [],
   "source": []
  },
  {
   "cell_type": "code",
   "execution_count": null,
   "id": "7723676b",
   "metadata": {},
   "outputs": [],
   "source": []
  },
  {
   "cell_type": "code",
   "execution_count": 37,
   "id": "4dc66e13",
   "metadata": {},
   "outputs": [],
   "source": [
    "def new_decorator(original_func):\n",
    "    \n",
    "    def wrap_func():\n",
    "        \n",
    "        print('Some extra code before the original function')\n",
    "        \n",
    "        original_func()\n",
    "        \n",
    "        print('Some extra code after the original function')\n",
    "    \n",
    "    return wrap_func"
   ]
  },
  {
   "cell_type": "code",
   "execution_count": 38,
   "id": "8f896c7b",
   "metadata": {},
   "outputs": [],
   "source": [
    "def func_needs_decorator():\n",
    "    print('I want to be decorated!!')"
   ]
  },
  {
   "cell_type": "code",
   "execution_count": 39,
   "id": "5352c4ca",
   "metadata": {},
   "outputs": [
    {
     "name": "stdout",
     "output_type": "stream",
     "text": [
      "I want to be decorated!!\n"
     ]
    }
   ],
   "source": [
    "func_needs_decorator()"
   ]
  },
  {
   "cell_type": "code",
   "execution_count": 40,
   "id": "e364c4a4",
   "metadata": {},
   "outputs": [
    {
     "data": {
      "text/plain": [
       "<function __main__.new_decorator.<locals>.wrap_func()>"
      ]
     },
     "execution_count": 40,
     "metadata": {},
     "output_type": "execute_result"
    }
   ],
   "source": [
    "new_decorator(func_needs_decorator)"
   ]
  },
  {
   "cell_type": "code",
   "execution_count": 41,
   "id": "1138c5c1",
   "metadata": {},
   "outputs": [],
   "source": [
    "decorated_func = new_decorator(func_needs_decorator)"
   ]
  },
  {
   "cell_type": "code",
   "execution_count": 42,
   "id": "11cb6b1c",
   "metadata": {},
   "outputs": [
    {
     "name": "stdout",
     "output_type": "stream",
     "text": [
      "Some extra code before the original function\n",
      "I want to be decorated!!\n",
      "Some extra code after the original function\n"
     ]
    }
   ],
   "source": [
    "decorated_func()"
   ]
  },
  {
   "cell_type": "code",
   "execution_count": 43,
   "id": "f73555f8",
   "metadata": {},
   "outputs": [],
   "source": [
    "# special syntax\n",
    "@new_decorator\n",
    "def func_needs_decorator():\n",
    "    print(\"I want to be decorated!!\")"
   ]
  },
  {
   "cell_type": "code",
   "execution_count": 44,
   "id": "987bf65d",
   "metadata": {},
   "outputs": [
    {
     "name": "stdout",
     "output_type": "stream",
     "text": [
      "Some extra code before the original function\n",
      "I want to be decorated!!\n",
      "Some extra code after the original function\n"
     ]
    }
   ],
   "source": [
    "func_needs_decorator()"
   ]
  },
  {
   "cell_type": "code",
   "execution_count": 45,
   "id": "b522f0cd",
   "metadata": {},
   "outputs": [],
   "source": [
    "# if you ever want to turn it off you can comment out the decorator\n",
    "#@new_decorator\n",
    "def func_needs_decorator():\n",
    "    print(\"I want to be decorated!!\")"
   ]
  },
  {
   "cell_type": "code",
   "execution_count": 46,
   "id": "c649583c",
   "metadata": {},
   "outputs": [
    {
     "name": "stdout",
     "output_type": "stream",
     "text": [
      "I want to be decorated!!\n"
     ]
    }
   ],
   "source": [
    "func_needs_decorator()"
   ]
  },
  {
   "cell_type": "markdown",
   "id": "82a2b0ed",
   "metadata": {},
   "source": [
    "# Generators"
   ]
  },
  {
   "cell_type": "code",
   "execution_count": 47,
   "id": "58203190",
   "metadata": {},
   "outputs": [],
   "source": [
    "# normal function keeps the list in memory\n",
    "def create_cubes(n):\n",
    "    result = []\n",
    "    for x in range(n):\n",
    "        result.append(x**3)\n",
    "        \n",
    "    return result"
   ]
  },
  {
   "cell_type": "code",
   "execution_count": 49,
   "id": "c742e949",
   "metadata": {},
   "outputs": [
    {
     "data": {
      "text/plain": [
       "[0, 1, 8, 27, 64, 125, 216, 343, 512, 729]"
      ]
     },
     "execution_count": 49,
     "metadata": {},
     "output_type": "execute_result"
    }
   ],
   "source": [
    "create_cubes(10)"
   ]
  },
  {
   "cell_type": "code",
   "execution_count": 50,
   "id": "323c6372",
   "metadata": {},
   "outputs": [],
   "source": [
    "# instead of createing the list in memory it would be better to yield the actual cubed numbers\n",
    "\n",
    "def create_cubes(n):\n",
    "    \n",
    "    for x in range(n):\n",
    "        yield x**3\n",
    "        "
   ]
  },
  {
   "cell_type": "code",
   "execution_count": 52,
   "id": "ec205f23",
   "metadata": {},
   "outputs": [
    {
     "name": "stdout",
     "output_type": "stream",
     "text": [
      "0\n",
      "1\n",
      "8\n",
      "27\n",
      "64\n",
      "125\n",
      "216\n",
      "343\n",
      "512\n",
      "729\n"
     ]
    }
   ],
   "source": [
    "for x in create_cubes(10):\n",
    "    print(x)"
   ]
  },
  {
   "cell_type": "code",
   "execution_count": 53,
   "id": "034ddba2",
   "metadata": {},
   "outputs": [
    {
     "data": {
      "text/plain": [
       "<generator object create_cubes at 0x00000167DE2A85F0>"
      ]
     },
     "execution_count": 53,
     "metadata": {},
     "output_type": "execute_result"
    }
   ],
   "source": [
    "# this is no longer accessible without iterating over it\n",
    "create_cubes(10)"
   ]
  },
  {
   "cell_type": "code",
   "execution_count": 61,
   "id": "3c06e33b",
   "metadata": {},
   "outputs": [],
   "source": [
    "# fibonacci sequence\n",
    "def gen_fibon(n):\n",
    "    \n",
    "    a = 1\n",
    "    b = 1\n",
    "    for i in range(n):\n",
    "        yield a\n",
    "        a,b = b,a+b"
   ]
  },
  {
   "cell_type": "code",
   "execution_count": 64,
   "id": "670c2e6f",
   "metadata": {},
   "outputs": [
    {
     "name": "stdout",
     "output_type": "stream",
     "text": [
      "1\n",
      "1\n",
      "2\n",
      "3\n",
      "5\n",
      "8\n",
      "13\n",
      "21\n",
      "34\n",
      "55\n"
     ]
    }
   ],
   "source": [
    "for number in gen_fibon(10):\n",
    "    print(number)"
   ]
  },
  {
   "cell_type": "code",
   "execution_count": 65,
   "id": "d6901a9f",
   "metadata": {},
   "outputs": [],
   "source": [
    "# a less memory efficient way would be to store every number in the seq within a list\n",
    "\n",
    "def gen_fibon(n):\n",
    "    \n",
    "    a = 1\n",
    "    b = 1\n",
    "    output = []\n",
    "    \n",
    "    for i in range(n):\n",
    "        output.append(a)\n",
    "        a,b = b,a+b\n",
    "    return output"
   ]
  },
  {
   "cell_type": "code",
   "execution_count": 67,
   "id": "9d448aae",
   "metadata": {},
   "outputs": [
    {
     "name": "stdout",
     "output_type": "stream",
     "text": [
      "1\n",
      "1\n",
      "2\n",
      "3\n",
      "5\n"
     ]
    }
   ],
   "source": [
    "for number in gen_fibon(5):\n",
    "    print(number)"
   ]
  },
  {
   "cell_type": "code",
   "execution_count": 68,
   "id": "42a169eb",
   "metadata": {},
   "outputs": [],
   "source": [
    "# key to fully understanding generators is the next() and the inter()\n",
    "\n",
    "def simple_gen():\n",
    "    for x in range(3):\n",
    "        yield x"
   ]
  },
  {
   "cell_type": "code",
   "execution_count": 69,
   "id": "239bad52",
   "metadata": {},
   "outputs": [
    {
     "name": "stdout",
     "output_type": "stream",
     "text": [
      "0\n",
      "1\n",
      "2\n"
     ]
    }
   ],
   "source": [
    "for number in simple_gen():\n",
    "    print(number)"
   ]
  },
  {
   "cell_type": "code",
   "execution_count": 70,
   "id": "bed32a31",
   "metadata": {},
   "outputs": [],
   "source": [
    "g = simple_gen()"
   ]
  },
  {
   "cell_type": "code",
   "execution_count": 71,
   "id": "5dbb53a8",
   "metadata": {},
   "outputs": [
    {
     "data": {
      "text/plain": [
       "<generator object simple_gen at 0x00000167DE3254A0>"
      ]
     },
     "execution_count": 71,
     "metadata": {},
     "output_type": "execute_result"
    }
   ],
   "source": [
    "g"
   ]
  },
  {
   "cell_type": "code",
   "execution_count": 72,
   "id": "984dabaa",
   "metadata": {},
   "outputs": [
    {
     "name": "stdout",
     "output_type": "stream",
     "text": [
      "0\n"
     ]
    }
   ],
   "source": [
    "print(next(g))"
   ]
  },
  {
   "cell_type": "code",
   "execution_count": 73,
   "id": "67f133fc",
   "metadata": {},
   "outputs": [
    {
     "name": "stdout",
     "output_type": "stream",
     "text": [
      "1\n"
     ]
    }
   ],
   "source": [
    "print(next(g))"
   ]
  },
  {
   "cell_type": "code",
   "execution_count": 74,
   "id": "e5d2fca5",
   "metadata": {},
   "outputs": [
    {
     "name": "stdout",
     "output_type": "stream",
     "text": [
      "2\n"
     ]
    }
   ],
   "source": [
    "print(next(g))"
   ]
  },
  {
   "cell_type": "code",
   "execution_count": 76,
   "id": "1e07e3ef",
   "metadata": {},
   "outputs": [
    {
     "ename": "StopIteration",
     "evalue": "",
     "output_type": "error",
     "traceback": [
      "\u001b[1;31m---------------------------------------------------------------------------\u001b[0m",
      "\u001b[1;31mStopIteration\u001b[0m                             Traceback (most recent call last)",
      "\u001b[1;32m<ipython-input-76-5e0c2635d67d>\u001b[0m in \u001b[0;36m<module>\u001b[1;34m\u001b[0m\n\u001b[0;32m      1\u001b[0m \u001b[1;31m# After yielding all the values next generates a StopIteration error\u001b[0m\u001b[1;33m\u001b[0m\u001b[1;33m\u001b[0m\u001b[1;33m\u001b[0m\u001b[0m\n\u001b[0;32m      2\u001b[0m \u001b[1;33m\u001b[0m\u001b[0m\n\u001b[1;32m----> 3\u001b[1;33m \u001b[0mprint\u001b[0m\u001b[1;33m(\u001b[0m\u001b[0mnext\u001b[0m\u001b[1;33m(\u001b[0m\u001b[0mg\u001b[0m\u001b[1;33m)\u001b[0m\u001b[1;33m)\u001b[0m\u001b[1;33m\u001b[0m\u001b[1;33m\u001b[0m\u001b[0m\n\u001b[0m",
      "\u001b[1;31mStopIteration\u001b[0m: "
     ]
    }
   ],
   "source": [
    "# After yielding all the values next generates a StopIteration error\n",
    "# This error informs us that all the values have been yielded\n",
    "# For loops automatically stop before the execution of the depleted value and will not throw the error\n",
    "\n",
    "print(next(g))"
   ]
  },
  {
   "cell_type": "code",
   "execution_count": 78,
   "id": "557910f0",
   "metadata": {},
   "outputs": [],
   "source": [
    "# iter()\n",
    "\n",
    "s = 'hello'"
   ]
  },
  {
   "cell_type": "code",
   "execution_count": 79,
   "id": "776dcd8c",
   "metadata": {},
   "outputs": [
    {
     "name": "stdout",
     "output_type": "stream",
     "text": [
      "h\n",
      "e\n",
      "l\n",
      "l\n",
      "o\n"
     ]
    }
   ],
   "source": [
    "for letter in s:\n",
    "    print(letter)"
   ]
  },
  {
   "cell_type": "code",
   "execution_count": 80,
   "id": "9a1e5d52",
   "metadata": {},
   "outputs": [
    {
     "ename": "TypeError",
     "evalue": "'str' object is not an iterator",
     "output_type": "error",
     "traceback": [
      "\u001b[1;31m---------------------------------------------------------------------------\u001b[0m",
      "\u001b[1;31mTypeError\u001b[0m                                 Traceback (most recent call last)",
      "\u001b[1;32m<ipython-input-80-61c30b5fe1d5>\u001b[0m in \u001b[0;36m<module>\u001b[1;34m\u001b[0m\n\u001b[1;32m----> 1\u001b[1;33m \u001b[0mnext\u001b[0m\u001b[1;33m(\u001b[0m\u001b[0ms\u001b[0m\u001b[1;33m)\u001b[0m\u001b[1;33m\u001b[0m\u001b[1;33m\u001b[0m\u001b[0m\n\u001b[0m",
      "\u001b[1;31mTypeError\u001b[0m: 'str' object is not an iterator"
     ]
    }
   ],
   "source": [
    "# this demonstrates the str is not an iterator\n",
    "\n",
    "next(s)"
   ]
  },
  {
   "cell_type": "code",
   "execution_count": 81,
   "id": "8f1cc3fb",
   "metadata": {},
   "outputs": [],
   "source": [
    "# to turn the str into a generator that we can iterate over\n",
    "\n",
    "s_iter = iter(s)"
   ]
  },
  {
   "cell_type": "code",
   "execution_count": 82,
   "id": "0b0371f7",
   "metadata": {},
   "outputs": [
    {
     "data": {
      "text/plain": [
       "'h'"
      ]
     },
     "execution_count": 82,
     "metadata": {},
     "output_type": "execute_result"
    }
   ],
   "source": [
    "next(s_iter)"
   ]
  },
  {
   "cell_type": "code",
   "execution_count": 87,
   "id": "bd7fec4f",
   "metadata": {},
   "outputs": [
    {
     "ename": "StopIteration",
     "evalue": "",
     "output_type": "error",
     "traceback": [
      "\u001b[1;31m---------------------------------------------------------------------------\u001b[0m",
      "\u001b[1;31mStopIteration\u001b[0m                             Traceback (most recent call last)",
      "\u001b[1;32m<ipython-input-87-9c75d6e5ae59>\u001b[0m in \u001b[0;36m<module>\u001b[1;34m\u001b[0m\n\u001b[1;32m----> 1\u001b[1;33m \u001b[0mnext\u001b[0m\u001b[1;33m(\u001b[0m\u001b[0ms_iter\u001b[0m\u001b[1;33m)\u001b[0m\u001b[1;33m\u001b[0m\u001b[1;33m\u001b[0m\u001b[0m\n\u001b[0m",
      "\u001b[1;31mStopIteration\u001b[0m: "
     ]
    }
   ],
   "source": [
    "# after running the iter() through the rest of the str I see the StopIteration error\n",
    "\n",
    "next(s_iter)"
   ]
  },
  {
   "cell_type": "code",
   "execution_count": null,
   "id": "5de700ed",
   "metadata": {},
   "outputs": [],
   "source": []
  }
 ],
 "metadata": {
  "kernelspec": {
   "display_name": "Python 3",
   "language": "python",
   "name": "python3"
  },
  "language_info": {
   "codemirror_mode": {
    "name": "ipython",
    "version": 3
   },
   "file_extension": ".py",
   "mimetype": "text/x-python",
   "name": "python",
   "nbconvert_exporter": "python",
   "pygments_lexer": "ipython3",
   "version": "3.8.8"
  }
 },
 "nbformat": 4,
 "nbformat_minor": 5
}
