{
 "cells": [
  {
   "cell_type": "code",
   "execution_count": null,
   "id": "339d6140",
   "metadata": {},
   "outputs": [],
   "source": [
    "# Modules are just .py scripts that you call in another .py script\n",
    "# Packages are a collection of modules"
   ]
  }
 ],
 "metadata": {
  "kernelspec": {
   "display_name": "Python 3",
   "language": "python",
   "name": "python3"
  },
  "language_info": {
   "codemirror_mode": {
    "name": "ipython",
    "version": 3
   },
   "file_extension": ".py",
   "mimetype": "text/x-python",
   "name": "python",
   "nbconvert_exporter": "python",
   "pygments_lexer": "ipython3",
   "version": "3.8.8"
  }
 },
 "nbformat": 4,
 "nbformat_minor": 5
}
