{
 "cells": [
  {
   "cell_type": "code",
   "execution_count": 1,
   "id": "069b857d",
   "metadata": {},
   "outputs": [],
   "source": [
    "# Pip is a simple way to download packages at your command line directly from the PyPi repo"
   ]
  },
  {
   "cell_type": "code",
   "execution_count": 2,
   "id": "a2515f40",
   "metadata": {},
   "outputs": [],
   "source": [
    "# All of this lesson was conducted from the cmd line using python, pip install, import, etc."
   ]
  },
  {
   "cell_type": "code",
   "execution_count": null,
   "id": "1d80e144",
   "metadata": {},
   "outputs": [],
   "source": []
  }
 ],
 "metadata": {
  "kernelspec": {
   "display_name": "Python 3",
   "language": "python",
   "name": "python3"
  },
  "language_info": {
   "codemirror_mode": {
    "name": "ipython",
    "version": 3
   },
   "file_extension": ".py",
   "mimetype": "text/x-python",
   "name": "python",
   "nbconvert_exporter": "python",
   "pygments_lexer": "ipython3",
   "version": "3.8.8"
  }
 },
 "nbformat": 4,
 "nbformat_minor": 5
}
