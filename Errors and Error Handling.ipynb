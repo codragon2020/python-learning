{
 "cells": [
  {
   "cell_type": "code",
   "execution_count": 5,
   "id": "0b261883",
   "metadata": {},
   "outputs": [
    {
     "name": "stdout",
     "output_type": "stream",
     "text": [
      "Add went well\n",
      "20\n"
     ]
    }
   ],
   "source": [
    "# try: block of code to be attempted\n",
    "# except: block of code will execute in case there is an error in try block\n",
    "# finally: block to be executed regardless of an error\n",
    "\n",
    "try:\n",
    "    result = 10 + 10\n",
    "except:\n",
    "    print('Hey it looks like you arent adding correctly')\n",
    "else:\n",
    "    print('Add went well')\n",
    "    print(result)"
   ]
  },
  {
   "cell_type": "code",
   "execution_count": 4,
   "id": "6b22fcbe",
   "metadata": {},
   "outputs": [
    {
     "data": {
      "text/plain": [
       "20"
      ]
     },
     "execution_count": 4,
     "metadata": {},
     "output_type": "execute_result"
    }
   ],
   "source": [
    "result"
   ]
  },
  {
   "cell_type": "code",
   "execution_count": null,
   "id": "01c53de7",
   "metadata": {},
   "outputs": [],
   "source": []
  },
  {
   "cell_type": "code",
   "execution_count": null,
   "id": "2b1b5603",
   "metadata": {},
   "outputs": [],
   "source": []
  },
  {
   "cell_type": "code",
   "execution_count": null,
   "id": "7c06c0ee",
   "metadata": {},
   "outputs": [],
   "source": []
  },
  {
   "cell_type": "code",
   "execution_count": 11,
   "id": "bac99c8d",
   "metadata": {},
   "outputs": [
    {
     "name": "stdout",
     "output_type": "stream",
     "text": [
      "All other exceptions\n",
      "I always run\n"
     ]
    }
   ],
   "source": [
    "try:\n",
    "    f = open('testfile', 'r')\n",
    "    f.write('Write a test line')\n",
    "except TypeError:\n",
    "    print('There was a type error')\n",
    "except:\n",
    "    print('All other exceptions')\n",
    "finally:\n",
    "    print('I always run')"
   ]
  },
  {
   "cell_type": "code",
   "execution_count": 12,
   "id": "90d13207",
   "metadata": {},
   "outputs": [],
   "source": [
    "def ask_for_int():\n",
    "    try:\n",
    "        result = int(input('Please provid a number: '))\n",
    "    except:\n",
    "        print('Whoops thats not a number')\n",
    "    finally:\n",
    "        print('End of try/except/finally')"
   ]
  },
  {
   "cell_type": "code",
   "execution_count": 14,
   "id": "aefbc493",
   "metadata": {},
   "outputs": [
    {
     "name": "stdout",
     "output_type": "stream",
     "text": [
      "Please provid a number: r\n",
      "Whoops thats not a number\n",
      "End of try/except/finally\n"
     ]
    }
   ],
   "source": [
    "ask_for_int()"
   ]
  },
  {
   "cell_type": "code",
   "execution_count": 15,
   "id": "3c1f296f",
   "metadata": {},
   "outputs": [],
   "source": [
    "# continuously try \n",
    "def ask_for_int():\n",
    "    \n",
    "    while True:\n",
    "        try:\n",
    "            result = int(input('Please provid a number: '))\n",
    "        except:\n",
    "            print('Whoops thats not a number')\n",
    "            continue\n",
    "        else:\n",
    "            print(\"Yes thank you\")\n",
    "            break\n",
    "        finally:\n",
    "            print('End of try/except/finally')"
   ]
  },
  {
   "cell_type": "code",
   "execution_count": 16,
   "id": "4a2a59ed",
   "metadata": {},
   "outputs": [
    {
     "name": "stdout",
     "output_type": "stream",
     "text": [
      "Please provid a number: 4\n",
      "Yes thank you\n",
      "End of try/except/finally\n"
     ]
    }
   ],
   "source": [
    "ask_for_int()"
   ]
  },
  {
   "cell_type": "code",
   "execution_count": 17,
   "id": "57b1f02b",
   "metadata": {},
   "outputs": [
    {
     "name": "stdout",
     "output_type": "stream",
     "text": [
      "Please provid a number: go\n",
      "Whoops thats not a number\n",
      "End of try/except/finally\n",
      "Please provid a number: away\n",
      "Whoops thats not a number\n",
      "End of try/except/finally\n",
      "Please provid a number: ok\n",
      "Whoops thats not a number\n",
      "End of try/except/finally\n",
      "Please provid a number: 4\n",
      "Yes thank you\n",
      "End of try/except/finally\n"
     ]
    }
   ],
   "source": [
    "ask_for_int()"
   ]
  },
  {
   "cell_type": "code",
   "execution_count": null,
   "id": "53cd4076",
   "metadata": {},
   "outputs": [],
   "source": []
  }
 ],
 "metadata": {
  "kernelspec": {
   "display_name": "Python 3",
   "language": "python",
   "name": "python3"
  },
  "language_info": {
   "codemirror_mode": {
    "name": "ipython",
    "version": 3
   },
   "file_extension": ".py",
   "mimetype": "text/x-python",
   "name": "python",
   "nbconvert_exporter": "python",
   "pygments_lexer": "ipython3",
   "version": "3.8.8"
  }
 },
 "nbformat": 4,
 "nbformat_minor": 5
}
